{
 "cells": [
  {
   "cell_type": "markdown",
   "id": "b9b790d7-751a-4965-aa38-ff35556d6393",
   "metadata": {},
   "source": [
    "# Data Joining"
   ]
  },
  {
   "cell_type": "code",
   "execution_count": null,
   "id": "9f4f9593-93bc-4595-9d00-dafa82a40d8a",
   "metadata": {},
   "outputs": [],
   "source": [
    "import pyspark\n",
    "from pyspark.sql import SparkSession\n",
    "# Create a Spark session\n",
    "spark = SparkSession.builder.appName(\"Data Joining\").getOrCreate()"
   ]
  },
  {
   "cell_type": "markdown",
   "id": "2ec119d6-7553-4ddb-acca-8260c3080451",
   "metadata": {},
   "source": [
    "### Inner Join"
   ]
  },
  {
   "cell_type": "code",
   "execution_count": 1,
   "id": "f3a88ddd-d9b1-46d1-a931-b46a3e42a0d3",
   "metadata": {},
   "outputs": [
    {
     "name": "stdout",
     "output_type": "stream",
     "text": [
      "+--------+-----------+------+\n",
      "|order_id|customer_id|amount|\n",
      "+--------+-----------+------+\n",
      "|    1001|          1|   100|\n",
      "|    1002|          2|   200|\n",
      "|    1003|          3|   300|\n",
      "|    1004|          1|   200|\n",
      "|    1005|          6|   200|\n",
      "+--------+-----------+------+\n",
      "\n"
     ]
    }
   ],
   "source": [
    "\n",
    "df_left = spark.createDataFrame([(1001,1,100),(1002,2,200), \n",
    "(1003,3,300),(1004,1,200),(1005,6,200)],[\"order_id\",\"customer_id\",\"amount\"])\n",
    "df_left.show()"
   ]
  },
  {
   "cell_type": "code",
   "execution_count": 2,
   "id": "7ad537bc-25e6-4df1-aae8-b106abf9bfd6",
   "metadata": {
    "tags": []
   },
   "outputs": [
    {
     "name": "stdout",
     "output_type": "stream",
     "text": [
      "+-----------+----+\n",
      "|customer_id|name|\n",
      "+-----------+----+\n",
      "|          1|john|\n",
      "|          2|mike|\n",
      "|          3|tony|\n",
      "|          4|kent|\n",
      "+-----------+----+\n",
      "\n"
     ]
    }
   ],
   "source": [
    "df_right = spark.createDataFrame([(1,\"john\"), \n",
    "(2,\"mike\"),(3,\"tony\"),(4,\"kent\")],[\"customer_id\",\"name\"])\n",
    "df_right.show()"
   ]
  },
  {
   "cell_type": "code",
   "execution_count": 4,
   "id": "e81920ed-dae5-41ec-ae68-0c0e6ded8e07",
   "metadata": {
    "tags": []
   },
   "outputs": [
    {
     "name": "stdout",
     "output_type": "stream",
     "text": [
      "+-----------+--------+------+----+\n",
      "|customer_id|order_id|amount|name|\n",
      "+-----------+--------+------+----+\n",
      "|          1|    1001|   100|john|\n",
      "|          1|    1004|   200|john|\n",
      "|          2|    1002|   200|mike|\n",
      "|          3|    1003|   300|tony|\n",
      "+-----------+--------+------+----+\n",
      "\n"
     ]
    }
   ],
   "source": [
    "df_left.join(df_right,on=\"customer_id\",how=\"inner\").show()\n"
   ]
  },
  {
   "cell_type": "markdown",
   "id": "bfb6754d-4986-4ffb-a8f1-ae40ed3aa53d",
   "metadata": {},
   "source": [
    "### Left Join"
   ]
  },
  {
   "cell_type": "code",
   "execution_count": 6,
   "id": "b0f47d26-d7e5-44d2-be0b-4d3f89bd5d07",
   "metadata": {
    "tags": []
   },
   "outputs": [
    {
     "name": "stdout",
     "output_type": "stream",
     "text": [
      "+-----------+--------+------+----+\n",
      "|customer_id|order_id|amount|name|\n",
      "+-----------+--------+------+----+\n",
      "|          1|    1001|   100|john|\n",
      "|          2|    1002|   200|mike|\n",
      "|          3|    1003|   300|tony|\n",
      "|          1|    1004|   200|john|\n",
      "|          6|    1005|   200|NULL|\n",
      "+-----------+--------+------+----+\n",
      "\n",
      "+-----------+--------+------+----+\n",
      "|customer_id|order_id|amount|name|\n",
      "+-----------+--------+------+----+\n",
      "|          1|    1001|   100|john|\n",
      "|          2|    1002|   200|mike|\n",
      "|          3|    1003|   300|tony|\n",
      "|          1|    1004|   200|john|\n",
      "|          6|    1005|   200|NULL|\n",
      "+-----------+--------+------+----+\n",
      "\n",
      "+-----------+--------+------+----+\n",
      "|customer_id|order_id|amount|name|\n",
      "+-----------+--------+------+----+\n",
      "|          1|    1001|   100|john|\n",
      "|          2|    1002|   200|mike|\n",
      "|          3|    1003|   300|tony|\n",
      "|          1|    1004|   200|john|\n",
      "|          6|    1005|   200|NULL|\n",
      "+-----------+--------+------+----+\n",
      "\n"
     ]
    }
   ],
   "source": [
    "df_left.join(df_right,on=\"customer_id\",how=\"left\").show()\n",
    "df_left.join(df_right,on=\"customer_id\",how=\"left_outer\").show()\n",
    "df_left.join(df_right,on=\"customer_id\",how=\"leftouter\").show()\n"
   ]
  },
  {
   "cell_type": "markdown",
   "id": "842a5a01-cd33-487e-91f3-730dbda86df7",
   "metadata": {},
   "source": [
    "### Full Join"
   ]
  },
  {
   "cell_type": "code",
   "execution_count": 8,
   "id": "0c52608f-f2ef-4474-bf1f-90ed6d40215b",
   "metadata": {
    "tags": []
   },
   "outputs": [
    {
     "name": "stdout",
     "output_type": "stream",
     "text": [
      "+-----------+--------+------+----+\n",
      "|customer_id|order_id|amount|name|\n",
      "+-----------+--------+------+----+\n",
      "|          1|    1001|   100|john|\n",
      "|          1|    1004|   200|john|\n",
      "|          2|    1002|   200|mike|\n",
      "|          3|    1003|   300|tony|\n",
      "|          4|    NULL|  NULL|kent|\n",
      "|          6|    1005|   200|NULL|\n",
      "+-----------+--------+------+----+\n",
      "\n",
      "+-----------+--------+------+----+\n",
      "|customer_id|order_id|amount|name|\n",
      "+-----------+--------+------+----+\n",
      "|          1|    1001|   100|john|\n",
      "|          1|    1004|   200|john|\n",
      "|          2|    1002|   200|mike|\n",
      "|          3|    1003|   300|tony|\n",
      "|          4|    NULL|  NULL|kent|\n",
      "|          6|    1005|   200|NULL|\n",
      "+-----------+--------+------+----+\n",
      "\n",
      "+-----------+--------+------+----+\n",
      "|customer_id|order_id|amount|name|\n",
      "+-----------+--------+------+----+\n",
      "|          1|    1001|   100|john|\n",
      "|          1|    1004|   200|john|\n",
      "|          2|    1002|   200|mike|\n",
      "|          3|    1003|   300|tony|\n",
      "|          4|    NULL|  NULL|kent|\n",
      "|          6|    1005|   200|NULL|\n",
      "+-----------+--------+------+----+\n",
      "\n"
     ]
    }
   ],
   "source": [
    "df_left.join(df_right,on=\"customer_id\",how=\"full\").show()\n",
    "df_left.join(df_right,on=\"customer_id\",how=\"fullouter\").show()\n",
    "df_left.join(df_right,on=\"customer_id\",how=\"full_outer\").show()"
   ]
  },
  {
   "cell_type": "markdown",
   "id": "386f4827-f901-434a-b64b-963962fe643d",
   "metadata": {},
   "source": [
    "### Cross Join"
   ]
  },
  {
   "cell_type": "code",
   "execution_count": 9,
   "id": "180bce13-61d6-4156-acea-f38ef4ab3c32",
   "metadata": {
    "tags": []
   },
   "outputs": [
    {
     "name": "stdout",
     "output_type": "stream",
     "text": [
      "+--------+-----------+------+-----------+----+\n",
      "|order_id|customer_id|amount|customer_id|name|\n",
      "+--------+-----------+------+-----------+----+\n",
      "|    1001|          1|   100|          1|john|\n",
      "|    1001|          1|   100|          2|mike|\n",
      "|    1001|          1|   100|          3|tony|\n",
      "|    1001|          1|   100|          4|kent|\n",
      "|    1002|          2|   200|          1|john|\n",
      "|    1002|          2|   200|          2|mike|\n",
      "|    1002|          2|   200|          3|tony|\n",
      "|    1002|          2|   200|          4|kent|\n",
      "|    1003|          3|   300|          1|john|\n",
      "|    1003|          3|   300|          2|mike|\n",
      "|    1003|          3|   300|          3|tony|\n",
      "|    1003|          3|   300|          4|kent|\n",
      "|    1004|          1|   200|          1|john|\n",
      "|    1004|          1|   200|          2|mike|\n",
      "|    1004|          1|   200|          3|tony|\n",
      "|    1004|          1|   200|          4|kent|\n",
      "|    1005|          6|   200|          1|john|\n",
      "|    1005|          6|   200|          2|mike|\n",
      "|    1005|          6|   200|          3|tony|\n",
      "|    1005|          6|   200|          4|kent|\n",
      "+--------+-----------+------+-----------+----+\n",
      "\n"
     ]
    }
   ],
   "source": [
    "spark.conf.set(\"spark.sql.crossJoin.enabled\", \"true\")\n",
    "df_left.crossJoin(df_right).show()\n"
   ]
  },
  {
   "cell_type": "code",
   "execution_count": 10,
   "id": "2f015ae8-3eb9-4221-92b7-d9dd484a4550",
   "metadata": {
    "tags": []
   },
   "outputs": [
    {
     "name": "stdout",
     "output_type": "stream",
     "text": [
      "+-----------+--------+------+\n",
      "|customer_id|order_id|amount|\n",
      "+-----------+--------+------+\n",
      "|          1|    1001|   100|\n",
      "|          1|    1004|   200|\n",
      "|          2|    1002|   200|\n",
      "|          3|    1003|   300|\n",
      "+-----------+--------+------+\n",
      "\n"
     ]
    }
   ],
   "source": [
    "df_left.join(df_right,on=\"customer_id\",how=\"semi\").show()"
   ]
  },
  {
   "cell_type": "code",
   "execution_count": 11,
   "id": "3cd7edc5-36e7-4471-802a-67b48e11810b",
   "metadata": {
    "tags": []
   },
   "outputs": [
    {
     "name": "stdout",
     "output_type": "stream",
     "text": [
      "+-----------+--------+------+\n",
      "|customer_id|order_id|amount|\n",
      "+-----------+--------+------+\n",
      "|          1|    1001|   100|\n",
      "|          1|    1004|   200|\n",
      "|          2|    1002|   200|\n",
      "|          3|    1003|   300|\n",
      "+-----------+--------+------+\n",
      "\n"
     ]
    }
   ],
   "source": [
    "df_left.join(df_right,on=\"customer_id\",how=\"leftsemi\").show()\n"
   ]
  },
  {
   "cell_type": "code",
   "execution_count": 13,
   "id": "c6aff2af-1cdb-4b47-afc2-41587e1698c9",
   "metadata": {
    "tags": []
   },
   "outputs": [
    {
     "name": "stdout",
     "output_type": "stream",
     "text": [
      "+-----------+--------+------+\n",
      "|customer_id|order_id|amount|\n",
      "+-----------+--------+------+\n",
      "|          1|    1001|   100|\n",
      "|          1|    1004|   200|\n",
      "|          2|    1002|   200|\n",
      "|          3|    1003|   300|\n",
      "+-----------+--------+------+\n",
      "\n"
     ]
    }
   ],
   "source": [
    "df_left.join(df_right,on=\"customer_id\",how=\"left_semi\").show()"
   ]
  },
  {
   "cell_type": "markdown",
   "id": "9eb36059-1cd0-4ca5-b8e3-fc543cc0f5a2",
   "metadata": {},
   "source": [
    "### Anti Join"
   ]
  },
  {
   "cell_type": "code",
   "execution_count": 14,
   "id": "cebba385-2c83-41b1-973a-b074215ca40e",
   "metadata": {
    "tags": []
   },
   "outputs": [
    {
     "name": "stdout",
     "output_type": "stream",
     "text": [
      "+-----------+--------+------+\n",
      "|customer_id|order_id|amount|\n",
      "+-----------+--------+------+\n",
      "|          6|    1005|   200|\n",
      "+-----------+--------+------+\n",
      "\n",
      "+-----------+--------+------+\n",
      "|customer_id|order_id|amount|\n",
      "+-----------+--------+------+\n",
      "|          6|    1005|   200|\n",
      "+-----------+--------+------+\n",
      "\n",
      "+-----------+--------+------+\n",
      "|customer_id|order_id|amount|\n",
      "+-----------+--------+------+\n",
      "|          6|    1005|   200|\n",
      "+-----------+--------+------+\n",
      "\n"
     ]
    }
   ],
   "source": [
    "df_left.join(df_right,on=\"customer_id\",how=\"anti\").show()\n",
    "df_left.join(df_right,on=\"customer_id\",how=\"leftanti\").show()\n",
    "df_left.join(df_right,on=\"customer_id\",how=\"left_anti\").show()\n"
   ]
  },
  {
   "cell_type": "code",
   "execution_count": null,
   "id": "e88c1c07-4004-4951-b1b5-08a11fc1104e",
   "metadata": {},
   "outputs": [],
   "source": []
  }
 ],
 "metadata": {
  "kernelspec": {
   "display_name": "(hard-disk) Python",
   "language": "python",
   "name": "conda-env-hard-disk-py"
  },
  "language_info": {
   "codemirror_mode": {
    "name": "ipython",
    "version": 3
   },
   "file_extension": ".py",
   "mimetype": "text/x-python",
   "name": "python",
   "nbconvert_exporter": "python",
   "pygments_lexer": "ipython3",
   "version": "3.8.16"
  }
 },
 "nbformat": 4,
 "nbformat_minor": 5
}
