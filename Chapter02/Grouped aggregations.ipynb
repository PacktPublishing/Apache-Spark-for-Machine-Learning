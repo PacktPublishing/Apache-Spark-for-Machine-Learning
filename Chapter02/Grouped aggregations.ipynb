{
 "cells": [
  {
   "cell_type": "code",
   "execution_count": 1,
   "id": "3a2eed9f-e5ec-4bdc-b9bf-433a965330a7",
   "metadata": {
    "tags": []
   },
   "outputs": [
    {
     "name": "stdout",
     "output_type": "stream",
     "text": [
      "+------+------+-----+--------+\n",
      "|emp_id|region|sales|customer|\n",
      "+------+------+-----+--------+\n",
      "|     1| north|  100| walmart|\n",
      "|     2| south|  300|   apple|\n",
      "|     3|  west|  200|  google|\n",
      "|     1|  east|  200|  google|\n",
      "|     2| north|  100| walmart|\n",
      "|     3|  west|  300|   apple|\n",
      "|     1| north|  200| walmart|\n",
      "|     2|  east|  500|  google|\n",
      "|     3|  west|  400|   apple|\n",
      "+------+------+-----+--------+\n",
      "\n"
     ]
    }
   ],
   "source": [
    "import pyspark\n",
    "from pyspark.sql import SparkSession\n",
    "# Create a Spark session\n",
    "spark = SparkSession.builder.appName(\"GMMClustering\").getOrCreate()\n",
    "df = spark.createDataFrame(\n",
    " [(1,\"north\",100,\"walmart\"),(2,\"south\",300,\"apple\"),\n",
    " (3,\"west\",200,\"google\"),(1,\"east\",200,\"google\"),\n",
    " (2,\"north\",100,\"walmart\"),(3,\"west\",300,\"apple\"),\n",
    " (1,\"north\",200,\"walmart\"),(2,\"east\",500,\"google\"), \n",
    "(3,\"west\",400,\"apple\"),],[\"emp_id\",\"region\",\"sales\",\"customer\"])\n",
    "df.show()"
   ]
  },
  {
   "cell_type": "markdown",
   "id": "2babefc3-3489-49a6-aa62-82145e2cc39b",
   "metadata": {},
   "source": [
    "### The following code calculates the total sales achieved by every employee. It first group the records in the column emp_id for each unique value of emp_id. For each group, that is, for every employee id, it calculates the sum. Then the output is sorted by employee id.\n"
   ]
  },
  {
   "cell_type": "code",
   "execution_count": 2,
   "id": "9c6d34a8-b696-4641-a972-3804b5ea4c83",
   "metadata": {
    "tags": []
   },
   "outputs": [
    {
     "name": "stdout",
     "output_type": "stream",
     "text": [
      "+------+----------+\n",
      "|emp_id|sum(sales)|\n",
      "+------+----------+\n",
      "|     1|       500|\n",
      "|     2|       900|\n",
      "|     3|       900|\n",
      "+------+----------+\n",
      "\n"
     ]
    }
   ],
   "source": [
    "df.groupby(\"emp_id\").agg({\"sales\": \n",
    "\"sum\"}).orderBy('emp_id').show()\n"
   ]
  },
  {
   "cell_type": "markdown",
   "id": "1f17f554-19b8-4bc2-bcc8-105a211e4cd4",
   "metadata": {},
   "source": [
    "### The following code calculates the maximum sales achieved by every employee. It first group the records in the column emp_id for each unique value of emp_id. For each group, that is, for every employee id, it calculates the maximum value. Then the output is sorted by employee id."
   ]
  },
  {
   "cell_type": "code",
   "execution_count": 3,
   "id": "7d641ddc-a5d8-4b51-8054-62a59787e59b",
   "metadata": {
    "tags": []
   },
   "outputs": [
    {
     "name": "stdout",
     "output_type": "stream",
     "text": [
      "+------+----------+\n",
      "|emp_id|max(sales)|\n",
      "+------+----------+\n",
      "|     1|       200|\n",
      "|     2|       500|\n",
      "|     3|       400|\n",
      "+------+----------+\n",
      "\n"
     ]
    }
   ],
   "source": [
    "df.groupby(\"emp_id\").agg({\"sales\": \n",
    "\"max\"}).orderBy('emp_id').show()\n"
   ]
  },
  {
   "cell_type": "markdown",
   "id": "6d226a68-f6da-4d97-8336-5ff3a0c0717e",
   "metadata": {},
   "source": [
    "### The following code outputs the most recent sales achieved by every employee. It first group the records in the column emp_id for each unique value of emp_id. For each group, that is, for every employee id, it reads the last sales in every group. Then the output is sorted by employee id.\n"
   ]
  },
  {
   "cell_type": "code",
   "execution_count": 4,
   "id": "6b9f56a4-f74e-4cac-abe6-7d92a57e996b",
   "metadata": {
    "tags": []
   },
   "outputs": [
    {
     "name": "stdout",
     "output_type": "stream",
     "text": [
      "+------+-----------+\n",
      "|emp_id|last(sales)|\n",
      "+------+-----------+\n",
      "|     1|        200|\n",
      "|     2|        500|\n",
      "|     3|        400|\n",
      "+------+-----------+\n",
      "\n"
     ]
    }
   ],
   "source": [
    "df.groupby(\"emp_id\").agg({\"sales\": \n",
    "\"last\"}).orderBy('emp_id').show()"
   ]
  },
  {
   "cell_type": "markdown",
   "id": "cd6879ab-5ba1-4209-b5d4-d6b757ab6e0b",
   "metadata": {},
   "source": [
    "### The following code outputs the average sales for each region. It first group the records in the column region for each unique value of region. For each group, that is, for every region, it calculates the average t sales in every group. Then the output is sorted by region."
   ]
  },
  {
   "cell_type": "code",
   "execution_count": 5,
   "id": "e128f879-e0d0-4d4c-9e4d-f27135c3dffc",
   "metadata": {
    "tags": []
   },
   "outputs": [
    {
     "name": "stdout",
     "output_type": "stream",
     "text": [
      "+------+----------+\n",
      "|region|sum(sales)|\n",
      "+------+----------+\n",
      "|  east|       700|\n",
      "| north|       400|\n",
      "| south|       300|\n",
      "|  west|       900|\n",
      "+------+----------+\n",
      "\n"
     ]
    }
   ],
   "source": [
    "df.groupby(\"region\").agg({\"sales\": \n",
    "\"sum\"}).orderBy('region').show()\n"
   ]
  },
  {
   "cell_type": "code",
   "execution_count": null,
   "id": "c007d5a3-aeac-45e7-86cb-610f5b62e9f8",
   "metadata": {},
   "outputs": [],
   "source": [
    "The following code outputs the total sales for each customer. It first group the records \n",
    "in the column customer for each unique value of customer. For each group, that is, \n",
    "for every customer, it calculates the total sales. Then the output is sorted by customer."
   ]
  },
  {
   "cell_type": "code",
   "execution_count": 6,
   "id": "38641b00-2edb-42d5-ad29-981549e02c3b",
   "metadata": {
    "tags": []
   },
   "outputs": [
    {
     "name": "stdout",
     "output_type": "stream",
     "text": [
      "+--------+----------+\n",
      "|customer|sum(sales)|\n",
      "+--------+----------+\n",
      "|   apple|      1000|\n",
      "|  google|       900|\n",
      "| walmart|       400|\n",
      "+--------+----------+\n",
      "\n"
     ]
    }
   ],
   "source": [
    "df.groupby(\"customer\").agg({\"sales\": \n",
    "\"sum\"}).orderBy('customer').show()\n"
   ]
  },
  {
   "cell_type": "code",
   "execution_count": null,
   "id": "3291d4fe-c0a5-4b90-a604-2084647f7355",
   "metadata": {},
   "outputs": [],
   "source": []
  }
 ],
 "metadata": {
  "kernelspec": {
   "display_name": "(hard-disk) Python",
   "language": "python",
   "name": "conda-env-hard-disk-py"
  },
  "language_info": {
   "codemirror_mode": {
    "name": "ipython",
    "version": 3
   },
   "file_extension": ".py",
   "mimetype": "text/x-python",
   "name": "python",
   "nbconvert_exporter": "python",
   "pygments_lexer": "ipython3",
   "version": "3.8.16"
  }
 },
 "nbformat": 4,
 "nbformat_minor": 5
}
