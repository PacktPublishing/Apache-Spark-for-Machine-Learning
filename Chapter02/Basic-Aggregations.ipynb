{
 "cells": [
  {
   "cell_type": "markdown",
   "id": "ea14f63b-9dba-4534-a8ee-6e0fa5be6e64",
   "metadata": {},
   "source": [
    "## Basic aggregations"
   ]
  },
  {
   "cell_type": "markdown",
   "id": "b0b86f26-2678-4cd5-a74c-a9adde47be4d",
   "metadata": {},
   "source": [
    "### Following code creates a Spark dataframe df containing four columns named emp_id, region, sales, and customer:"
   ]
  },
  {
   "cell_type": "code",
   "execution_count": 11,
   "id": "e0dc882e-895d-42ae-a680-abd5ca665566",
   "metadata": {
    "tags": []
   },
   "outputs": [],
   "source": [
    "import pyspark\n",
    "from pyspark.sql import SparkSession\n",
    "# Create a Spark session\n",
    "spark = SparkSession.builder.appName(\"Aggregations\").getOrCreate()\n",
    "df = spark.createDataFrame(\n",
    " [(1,\"north\",100,\"walmart\"),(2,\"south\",300,\"apple\"),\n",
    " (3,\"west\",200,\"google\"),(1,\"east\",200,\"google\"),\n",
    " (2,\"north\",100,\"walmart\"),(3,\"west\",300,\"apple\"),\n",
    " (1,\"north\",200,\"walmart\"),(2,\"east\",500,\"google\"), \n",
    "(3,\"west\",400,\"apple\"),],[\"emp_id\",\"region\",\"sales\",\"customer\"])"
   ]
  },
  {
   "cell_type": "code",
   "execution_count": 12,
   "id": "d08f6e01-7cc0-41cd-8903-304e69070088",
   "metadata": {
    "tags": []
   },
   "outputs": [
    {
     "name": "stdout",
     "output_type": "stream",
     "text": [
      "+------+------+-----+--------+\n",
      "|emp_id|region|sales|customer|\n",
      "+------+------+-----+--------+\n",
      "|     1| north|  100| walmart|\n",
      "|     2| south|  300|   apple|\n",
      "|     3|  west|  200|  google|\n",
      "|     1|  east|  200|  google|\n",
      "|     2| north|  100| walmart|\n",
      "|     3|  west|  300|   apple|\n",
      "|     1| north|  200| walmart|\n",
      "|     2|  east|  500|  google|\n",
      "|     3|  west|  400|   apple|\n",
      "+------+------+-----+--------+\n",
      "\n"
     ]
    }
   ],
   "source": [
    "df.show()"
   ]
  },
  {
   "cell_type": "markdown",
   "id": "df5a3d68-150c-41bb-94ba-6769c92e382a",
   "metadata": {},
   "source": [
    "### The function sum adds all the values in the column to give an output value of 2300:\n"
   ]
  },
  {
   "cell_type": "code",
   "execution_count": 13,
   "id": "140cf94c-deb0-404a-a907-94ad5f902f16",
   "metadata": {
    "tags": []
   },
   "outputs": [
    {
     "name": "stdout",
     "output_type": "stream",
     "text": [
      "+----------+\n",
      "|sum(sales)|\n",
      "+----------+\n",
      "|      2300|\n",
      "+----------+\n",
      "\n"
     ]
    }
   ],
   "source": [
    "df.agg({\"sales\": \"sum\"}).show()\n"
   ]
  },
  {
   "cell_type": "markdown",
   "id": "fc91388e-2a63-4127-b0a2-08940636a601",
   "metadata": {},
   "source": [
    "### The following code calculates the minimum value in the column sales:"
   ]
  },
  {
   "cell_type": "code",
   "execution_count": 14,
   "id": "cf1b4286-086d-48f8-a76b-873cbe74cf6f",
   "metadata": {
    "tags": []
   },
   "outputs": [
    {
     "name": "stdout",
     "output_type": "stream",
     "text": [
      "+----------+\n",
      "|min(sales)|\n",
      "+----------+\n",
      "|       100|\n",
      "+----------+\n",
      "\n"
     ]
    }
   ],
   "source": [
    "df.agg({\"sales\": \"min\"}).show()"
   ]
  },
  {
   "cell_type": "markdown",
   "id": "29932174-028b-4aae-8295-4bb6b63897e7",
   "metadata": {},
   "source": [
    "### The following code calculates the maximum value in the column sales"
   ]
  },
  {
   "cell_type": "code",
   "execution_count": 15,
   "id": "9661cf25-6772-4db9-a10f-d0534b33c42b",
   "metadata": {
    "tags": []
   },
   "outputs": [
    {
     "name": "stdout",
     "output_type": "stream",
     "text": [
      "+----------+\n",
      "|max(sales)|\n",
      "+----------+\n",
      "|       500|\n",
      "+----------+\n",
      "\n"
     ]
    }
   ],
   "source": [
    "df.agg({\"sales\": \"max\"}).show()"
   ]
  },
  {
   "cell_type": "markdown",
   "id": "8f53ab42-17f5-4a40-b6ca-b8bd71df81b3",
   "metadata": {},
   "source": [
    "### The following code calculates the count of number of rows in the dataset:"
   ]
  },
  {
   "cell_type": "code",
   "execution_count": 16,
   "id": "9f551544-c4f4-4d81-b835-890762dad85a",
   "metadata": {},
   "outputs": [
    {
     "name": "stdout",
     "output_type": "stream",
     "text": [
      "+------------+\n",
      "|count(sales)|\n",
      "+------------+\n",
      "|           9|\n",
      "+------------+\n",
      "\n"
     ]
    }
   ],
   "source": [
    "df.agg({\"sales\": \"count\"}).show()\n"
   ]
  },
  {
   "cell_type": "markdown",
   "id": "148b24d5-ddd2-40f1-9d40-e37ed7205153",
   "metadata": {},
   "source": [
    "### The following code calculates the average of all the values in the column sales"
   ]
  },
  {
   "cell_type": "code",
   "execution_count": 17,
   "id": "b3ff064a-f370-4c1d-be6c-945963a66c78",
   "metadata": {},
   "outputs": [
    {
     "name": "stdout",
     "output_type": "stream",
     "text": [
      "+------------------+\n",
      "|        avg(sales)|\n",
      "+------------------+\n",
      "|255.55555555555554|\n",
      "+------------------+\n",
      "\n"
     ]
    }
   ],
   "source": [
    "df.agg({\"sales\": \"mean\"}).show()\n"
   ]
  },
  {
   "cell_type": "markdown",
   "id": "aa96a4e6-544f-49c7-8cd8-e3d8920ea1b8",
   "metadata": {},
   "source": [
    "### The following code shows how to apply two aggregate functions simultaneously"
   ]
  },
  {
   "cell_type": "code",
   "execution_count": 18,
   "id": "2e90b403-036a-4aad-a775-ea3b99d40ce8",
   "metadata": {
    "tags": []
   },
   "outputs": [
    {
     "name": "stdout",
     "output_type": "stream",
     "text": [
      "+------------------+---------------+\n",
      "|        avg(sales)|count(customer)|\n",
      "+------------------+---------------+\n",
      "|255.55555555555554|              9|\n",
      "+------------------+---------------+\n",
      "\n"
     ]
    }
   ],
   "source": [
    "df.agg({\"sales\": \"mean\",\"customer\":\"count\"}).show()"
   ]
  }
 ],
 "metadata": {
  "kernelspec": {
   "display_name": "(hard-disk) Python",
   "language": "python",
   "name": "conda-env-hard-disk-py"
  },
  "language_info": {
   "codemirror_mode": {
    "name": "ipython",
    "version": 3
   },
   "file_extension": ".py",
   "mimetype": "text/x-python",
   "name": "python",
   "nbconvert_exporter": "python",
   "pygments_lexer": "ipython3",
   "version": "3.8.16"
  }
 },
 "nbformat": 4,
 "nbformat_minor": 5
}
