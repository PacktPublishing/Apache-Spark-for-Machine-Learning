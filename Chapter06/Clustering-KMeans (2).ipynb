{
 "cells": [
  {
   "cell_type": "markdown",
   "metadata": {},
   "source": [
    "# K Means Clustering"
   ]
  },
  {
   "cell_type": "markdown",
   "metadata": {
    "tags": []
   },
   "source": [
    "### Importing libraries"
   ]
  },
  {
   "cell_type": "code",
   "execution_count": 14,
   "metadata": {
    "application/vnd.databricks.v1+cell": {
     "cellMetadata": {
      "byteLimit": 2048000,
      "rowLimit": 10000
     },
     "inputWidgets": {},
     "nuid": "819fe33c-5e0d-4be1-a328-d688088a702c",
     "showTitle": false,
     "title": ""
    }
   },
   "outputs": [],
   "source": [
    "from sklearn.datasets import make_blobs\n",
    "import numpy as np\n",
    "from pyspark.sql.functions import monotonically_increasing_id\n",
    "from pyspark import SparkFiles\n",
    "from pyspark.sql import SparkSession\n",
    "from pyspark.ml.feature import VectorAssembler, StandardScaler\n",
    "from pyspark.ml.clustering import KMeans\n",
    "from pyspark.ml.evaluation import ClusteringEvaluator\n",
    "import matplotlib.pyplot as plt\n",
    "import pyspark\n",
    "spark = pyspark.sql.SparkSession.builder.appName(\"K-means Clustering\").getOrCreate()"
   ]
  },
  {
   "cell_type": "markdown",
   "metadata": {},
   "source": [
    "### Creating synthetic dataset"
   ]
  },
  {
   "cell_type": "code",
   "execution_count": 15,
   "metadata": {
    "application/vnd.databricks.v1+cell": {
     "cellMetadata": {
      "byteLimit": 2048000,
      "rowLimit": 10000
     },
     "inputWidgets": {},
     "nuid": "a7cd02bf-06c1-4f63-b1c4-31cb5d1c80fc",
     "showTitle": false,
     "title": ""
    }
   },
   "outputs": [],
   "source": [
    "features, true_labels = make_blobs(\n",
    "   ...:     n_samples=200,\n",
    "   ...:     centers=3,\n",
    "   ...:     cluster_std=2.75,\n",
    "   ...:     random_state=42\n",
    "   ...: )"
   ]
  },
  {
   "cell_type": "markdown",
   "metadata": {},
   "source": [
    "### Displaying the dataset"
   ]
  },
  {
   "cell_type": "code",
   "execution_count": 16,
   "metadata": {
    "application/vnd.databricks.v1+cell": {
     "cellMetadata": {
      "byteLimit": 2048000,
      "rowLimit": 10000
     },
     "inputWidgets": {},
     "nuid": "b2678529-8b02-48e0-8082-4b6cd935da9a",
     "showTitle": false,
     "title": ""
    }
   },
   "outputs": [
    {
     "data": {
      "text/plain": [
       "array([[  9.77075874,   3.27621022],\n",
       "       [ -9.71349666,  11.27451802],\n",
       "       [ -6.91330582,  -9.34755911],\n",
       "       [-10.86185913, -10.75063497],\n",
       "       [ -8.50038027,  -4.54370383]])"
      ]
     },
     "execution_count": 16,
     "metadata": {},
     "output_type": "execute_result"
    }
   ],
   "source": [
    "features[0:5]"
   ]
  },
  {
   "cell_type": "markdown",
   "metadata": {
    "tags": []
   },
   "source": [
    "### Create Spark Dataframe with columns 'feature1', 'feature2' and 'id'\n",
    "### Create Spark Dataframe with columns 'label' and 'id'"
   ]
  },
  {
   "cell_type": "code",
   "execution_count": 17,
   "metadata": {
    "application/vnd.databricks.v1+cell": {
     "cellMetadata": {
      "byteLimit": 2048000,
      "rowLimit": 10000
     },
     "inputWidgets": {},
     "nuid": "96f1eb02-5fba-4217-ae41-6d0bed3538cf",
     "showTitle": false,
     "title": ""
    }
   },
   "outputs": [],
   "source": [
    "df1 = spark.createDataFrame(features,['feature1','feature2'])\n",
    "df1 = df1.withColumn(\"id1\", monotonically_increasing_id())\n",
    "df2 = spark.createDataFrame(true_labels,['label'])\n",
    "df2 = df2.withColumn(\"id1\", monotonically_increasing_id())"
   ]
  },
  {
   "cell_type": "markdown",
   "metadata": {},
   "source": [
    "### Joining the two dataframes"
   ]
  },
  {
   "cell_type": "code",
   "execution_count": 18,
   "metadata": {
    "application/vnd.databricks.v1+cell": {
     "cellMetadata": {
      "byteLimit": 2048000,
      "rowLimit": 10000
     },
     "inputWidgets": {},
     "nuid": "550236c6-6b58-4a77-b9c1-fc0170178b81",
     "showTitle": false,
     "title": ""
    }
   },
   "outputs": [
    {
     "name": "stderr",
     "output_type": "stream",
     "text": [
      "                                                                                \r"
     ]
    },
    {
     "name": "stdout",
     "output_type": "stream",
     "text": [
      "+---+------------------+------------------+-----+\n",
      "|id1|          feature1|          feature2|label|\n",
      "+---+------------------+------------------+-----+\n",
      "|  0| 9.770758741876183|3.2762102164481477|    1|\n",
      "|  7|-8.174982531601657|-6.241972265542447|    2|\n",
      "|  6|-3.038190276200837| 9.843541319615756|    0|\n",
      "|  9| -4.64425636434413|-5.148630277986013|    2|\n",
      "|  5|  -4.8245697770623|-5.201591363333918|    2|\n",
      "+---+------------------+------------------+-----+\n",
      "only showing top 5 rows\n",
      "\n"
     ]
    }
   ],
   "source": [
    "df = df1.join(df2,on=\"id1\")\n",
    "df.show(5)"
   ]
  },
  {
   "cell_type": "markdown",
   "metadata": {},
   "source": [
    "### Preprocessing, Scaling and transformation"
   ]
  },
  {
   "cell_type": "code",
   "execution_count": 19,
   "metadata": {
    "application/vnd.databricks.v1+cell": {
     "cellMetadata": {
      "byteLimit": 2048000,
      "rowLimit": 10000
     },
     "inputWidgets": {},
     "nuid": "522eed86-98ed-4a1f-9309-048e5e04fe2d",
     "showTitle": false,
     "title": ""
    }
   },
   "outputs": [
    {
     "name": "stdout",
     "output_type": "stream",
     "text": [
      "+---+------------------+------------------+-----+--------------------+--------------------+\n",
      "|id1|          feature1|          feature2|label|            features|     scaled_features|\n",
      "+---+------------------+------------------+-----+--------------------+--------------------+\n",
      "|  0| 9.770758741876183|3.2762102164481477|    1|[9.77075874187618...|[1.82968666370121...|\n",
      "|  7|-8.174982531601657|-6.241972265542447|    2|[-8.1749825316016...|[-1.5308592617229...|\n",
      "|  6|-3.038190276200837| 9.843541319615756|    0|[-3.0381902762008...|[-0.5689359830702...|\n",
      "|  9| -4.64425636434413|-5.148630277986013|    2|[-4.6442563643441...|[-0.8696902827239...|\n",
      "|  5|  -4.8245697770623|-5.201591363333918|    2|[-4.8245697770623...|[-0.9034560377950...|\n",
      "+---+------------------+------------------+-----+--------------------+--------------------+\n",
      "only showing top 5 rows\n",
      "\n"
     ]
    }
   ],
   "source": [
    "assembler = VectorAssembler(inputCols=[\"feature1\", \"feature2\"],\n",
    "                            outputCol=\"features\")\n",
    "data_df = assembler.transform(df)\n",
    "\n",
    "# Scale the features\n",
    "scaler = StandardScaler(inputCol=\"features\", outputCol=\"scaled_features\")\n",
    "scaler_model = scaler.fit(data_df)\n",
    "data_df = scaler_model.transform(data_df)\n",
    "data_df.show(5)"
   ]
  },
  {
   "cell_type": "markdown",
   "metadata": {},
   "source": [
    "### K-Means Clustering"
   ]
  },
  {
   "cell_type": "code",
   "execution_count": 20,
   "metadata": {
    "application/vnd.databricks.v1+cell": {
     "cellMetadata": {
      "byteLimit": 2048000,
      "rowLimit": 10000
     },
     "inputWidgets": {},
     "nuid": "068483c3-b76a-4ae1-bd32-9df5b8a1c00c",
     "showTitle": false,
     "title": ""
    }
   },
   "outputs": [
    {
     "name": "stderr",
     "output_type": "stream",
     "text": [
      "24/07/02 17:05:12 WARN InstanceBuilder: Failed to load implementation from:dev.ludovic.netlib.blas.JNIBLAS\n"
     ]
    }
   ],
   "source": [
    "kmeans = KMeans(k=3, featuresCol=\"scaled_features\", predictionCol=\"cluster\")\n",
    "model = kmeans.fit(data_df)"
   ]
  },
  {
   "cell_type": "markdown",
   "metadata": {},
   "source": [
    "### Model predictions and display"
   ]
  },
  {
   "cell_type": "code",
   "execution_count": 21,
   "metadata": {
    "application/vnd.databricks.v1+cell": {
     "cellMetadata": {
      "byteLimit": 2048000,
      "rowLimit": 10000
     },
     "inputWidgets": {},
     "nuid": "52e33385-af64-4593-87c0-d3bb0b191fc7",
     "showTitle": false,
     "title": ""
    }
   },
   "outputs": [
    {
     "name": "stdout",
     "output_type": "stream",
     "text": [
      "+---+------------------+------------------+-----+--------------------+--------------------+-------+\n",
      "|id1|          feature1|          feature2|label|            features|     scaled_features|cluster|\n",
      "+---+------------------+------------------+-----+--------------------+--------------------+-------+\n",
      "|  0| 9.770758741876183|3.2762102164481477|    1|[9.77075874187618...|[1.82968666370121...|      0|\n",
      "|  7|-8.174982531601657|-6.241972265542447|    2|[-8.1749825316016...|[-1.5308592617229...|      1|\n",
      "|  6|-3.038190276200837| 9.843541319615756|    0|[-3.0381902762008...|[-0.5689359830702...|      2|\n",
      "|  9| -4.64425636434413|-5.148630277986013|    2|[-4.6442563643441...|[-0.8696902827239...|      1|\n",
      "|  5|  -4.8245697770623|-5.201591363333918|    2|[-4.8245697770623...|[-0.9034560377950...|      1|\n",
      "+---+------------------+------------------+-----+--------------------+--------------------+-------+\n",
      "only showing top 5 rows\n",
      "\n"
     ]
    }
   ],
   "source": [
    "predictions = model.transform(data_df)\n",
    "predictions.show(5)"
   ]
  },
  {
   "cell_type": "markdown",
   "metadata": {},
   "source": [
    "### Evaluating the model"
   ]
  },
  {
   "cell_type": "code",
   "execution_count": 22,
   "metadata": {
    "application/vnd.databricks.v1+cell": {
     "cellMetadata": {
      "byteLimit": 2048000,
      "rowLimit": 10000
     },
     "inputWidgets": {},
     "nuid": "2576bccd-9de2-4179-a535-78b03d3f5977",
     "showTitle": false,
     "title": ""
    }
   },
   "outputs": [
    {
     "name": "stdout",
     "output_type": "stream",
     "text": [
      "Silhouette Score: 0.7851\n"
     ]
    }
   ],
   "source": [
    "evaluator = ClusteringEvaluator(predictionCol='cluster', featuresCol='scaled_features', \\\n",
    "                                metricName='silhouette', distanceMeasure='squaredEuclidean')\n",
    "#evaluator = ClusteringEvaluator()\n",
    "silhouette_score = evaluator.evaluate(predictions)\n",
    "print(f\"Silhouette Score: {silhouette_score:.4f}\")"
   ]
  },
  {
   "cell_type": "markdown",
   "metadata": {},
   "source": [
    "### Finding the optimal number of clusters"
   ]
  },
  {
   "cell_type": "code",
   "execution_count": 23,
   "metadata": {
    "application/vnd.databricks.v1+cell": {
     "cellMetadata": {
      "byteLimit": 2048000,
      "rowLimit": 10000
     },
     "inputWidgets": {},
     "nuid": "5f9af888-6540-4f75-9ab6-f84e558879c9",
     "showTitle": false,
     "title": ""
    }
   },
   "outputs": [
    {
     "name": "stdout",
     "output_type": "stream",
     "text": [
      "Silhouette Score: 0.7178670008193638\n",
      "Silhouette Score: 0.7851032706829324\n",
      "Silhouette Score: 0.7008654819789435\n",
      "Silhouette Score: 0.5810267089116745\n",
      "Silhouette Score: 0.5526861092921291\n",
      "Silhouette Score: 0.4833519912149014\n"
     ]
    }
   ],
   "source": [
    "\n",
    "# Computing WSSSE for K values from 2 to 8\n",
    "wssse_values =[]\n",
    "evaluator = ClusteringEvaluator(predictionCol='cluster', featuresCol='scaled_features', \\\n",
    "                                metricName='silhouette', distanceMeasure='squaredEuclidean')\n",
    "\n",
    "for i in range(2,8):    \n",
    "    KMeans_mod = KMeans(k=i, featuresCol=\"scaled_features\", predictionCol=\"cluster\")  \n",
    "    KMeans_fit = KMeans_mod.fit(data_df)  \n",
    "    output = KMeans_fit.transform(data_df)   \n",
    "    score = evaluator.evaluate(output)   \n",
    "    wssse_values.append(score)  \n",
    "    print(\"Silhouette Score:\",score)"
   ]
  },
  {
   "cell_type": "markdown",
   "metadata": {},
   "source": [
    "### Plotting WSSSE values"
   ]
  },
  {
   "cell_type": "code",
   "execution_count": 24,
   "metadata": {
    "application/vnd.databricks.v1+cell": {
     "cellMetadata": {
      "byteLimit": 2048000,
      "rowLimit": 10000
     },
     "inputWidgets": {},
     "nuid": "6894e03b-7d1c-44a3-ae89-0fbef7db0c56",
     "showTitle": false,
     "title": ""
    }
   },
   "outputs": [
    {
     "data": {
      "image/png": "[encoded data removed]",
      "text/plain": [
       "<Figure size 640x480 with 1 Axes>"
      ]
     },
     "metadata": {},
     "output_type": "display_data"
    }
   ],
   "source": [
    "\n",
    "plt.plot(range(1, 7), wssse_values)\n",
    "plt.xlabel('Number of Clusters (K)')\n",
    "plt.ylabel('Within Set Sum of Squared Errors (WSSSE)')\n",
    "plt.title('Elbow Method for Optimal K')\n",
    "plt.grid()\n",
    "plt.show()"
   ]
  },
  {
   "cell_type": "markdown",
   "metadata": {},
   "source": [
    "### Visualizing the clusters"
   ]
  },
  {
   "cell_type": "code",
   "execution_count": 25,
   "metadata": {
    "application/vnd.databricks.v1+cell": {
     "cellMetadata": {
      "byteLimit": 2048000,
      "rowLimit": 10000
     },
     "inputWidgets": {},
     "nuid": "2b5e51bc-a7ef-457a-8190-2dc7ed624c8b",
     "showTitle": false,
     "title": ""
    }
   },
   "outputs": [
    {
     "data": {
      "image/png": "[encoded data removed]",
      "text/plain": [
       "<Figure size 800x600 with 1 Axes>"
      ]
     },
     "metadata": {},
     "output_type": "display_data"
    }
   ],
   "source": [
    "# Visualize the clusters\n",
    "plt.figure(figsize=(8, 6))\n",
    "for i in range(3):\n",
    "    cluster_data = predictions.filter(predictions[\"cluster\"] == i).select(\"scaled_features\").collect()\n",
    "    cluster_points = [point[0] for point in cluster_data]\n",
    "    plt.scatter(*zip(*cluster_points), label=f\"Cluster {i}\")\n",
    "\n",
    "plt.scatter(*zip(*model.clusterCenters()), c='black', s=200, alpha=0.5, label=\"Cluster Centers\")\n",
    "plt.title(\"K-Means Clustering\")\n",
    "plt.xlabel(\"PCA Component 1\")\n",
    "plt.ylabel(\"PCA Component 2\")\n",
    "plt.legend()\n",
    "plt.show()"
   ]
  },
  {
   "cell_type": "code",
   "execution_count": null,
   "metadata": {
    "application/vnd.databricks.v1+cell": {
     "cellMetadata": {},
     "inputWidgets": {},
     "nuid": "320e5125-fcd5-41cc-8d38-557586ab4d9f",
     "showTitle": false,
     "title": ""
    }
   },
   "outputs": [],
   "source": []
  }
 ],
 "metadata": {
  "application/vnd.databricks.v1+notebook": {
   "dashboards": [],
   "language": "python",
   "notebookMetadata": {
    "pythonIndentUnit": 4
   },
   "notebookName": "Clustering-KMeans",
   "widgets": {}
  },
  "kernelspec": {
   "display_name": "(hard-disk) Python",
   "language": "python",
   "name": "conda-env-hard-disk-py"
  },
  "language_info": {
   "codemirror_mode": {
    "name": "ipython",
    "version": 3
   },
   "file_extension": ".py",
   "mimetype": "text/x-python",
   "name": "python",
   "nbconvert_exporter": "python",
   "pygments_lexer": "ipython3",
   "version": "3.8.16"
  }
 },
 "nbformat": 4,
 "nbformat_minor": 4
}
