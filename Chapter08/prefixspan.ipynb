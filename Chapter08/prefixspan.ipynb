{
 "cells": [
  {
   "cell_type": "markdown",
   "id": "e2dc8341-a7ad-49d0-8dd2-28d81970e4d3",
   "metadata": {},
   "source": [
    "# PrefixSpan Example"
   ]
  },
  {
   "cell_type": "markdown",
   "id": "2d60ce5f-2d20-40eb-9f0b-af9dc6669190",
   "metadata": {},
   "source": [
    "### Import required libraries and create Spark session"
   ]
  },
  {
   "cell_type": "code",
   "execution_count": 7,
   "id": "c3dc5256-f467-4d2c-91d7-9c8854136104",
   "metadata": {
    "tags": []
   },
   "outputs": [],
   "source": [
    "from pyspark.sql import SparkSession\n",
    "from pyspark.sql import Row\n",
    "from pyspark.ml.fpm import PrefixSpan\n",
    "\n",
    "# Create a Spark session\n",
    "spark = SparkSession.builder.appName(\"PrefixSpanExample\").getOrCreate()"
   ]
  },
  {
   "cell_type": "markdown",
   "id": "e16a61cf-410a-4174-94a2-26dec18c22e4",
   "metadata": {},
   "source": [
    "### Create syntehtic data and display the data frame"
   ]
  },
  {
   "cell_type": "code",
   "execution_count": 8,
   "id": "5abee1bf-9949-4053-979d-c22db72988b8",
   "metadata": {
    "tags": []
   },
   "outputs": [
    {
     "name": "stdout",
     "output_type": "stream",
     "text": [
      "+----------------------------------------------+\n",
      "|sequence                                      |\n",
      "+----------------------------------------------+\n",
      "|[[eggs, bread], [apple]]                      |\n",
      "|[[banana], [cheese, chocolate], [eggs, bread]]|\n",
      "|[[eggs, bread], [orange]]                     |\n",
      "|[[milk]]                                      |\n",
      "+----------------------------------------------+\n",
      "\n"
     ]
    }
   ],
   "source": [
    "# Create a DataFrame from the given data\n",
    "data = [\n",
    "    Row(sequence=[[\"eggs\", \"bread\"], [\"apple\"]]),\n",
    "    Row(sequence=[[\"banana\"], [\"cheese\", \"chocolate\"], [\"eggs\", \"bread\"]]),\n",
    "    Row(sequence=[[\"eggs\", \"bread\"], [\"orange\"]]),\n",
    "    Row(sequence=[[\"milk\"]])\n",
    "]\n",
    "df = spark.createDataFrame(data)\n",
    "df.show(truncate=False)"
   ]
  },
  {
   "cell_type": "markdown",
   "id": "0a7e9434-3554-43dc-88c8-15962b6f66d1",
   "metadata": {},
   "source": [
    "### Set parameters for PrefixSpan\n",
    "### Find frequent sequential patterns"
   ]
  },
  {
   "cell_type": "code",
   "execution_count": 9,
   "id": "b2d65deb-db7d-41ab-ad2d-212328f4c2cd",
   "metadata": {
    "tags": []
   },
   "outputs": [
    {
     "name": "stdout",
     "output_type": "stream",
     "text": [
      "+---------------+----+\n",
      "|sequence       |freq|\n",
      "+---------------+----+\n",
      "|[[bread]]      |3   |\n",
      "|[[bread, eggs]]|3   |\n",
      "|[[eggs]]       |3   |\n",
      "+---------------+----+\n",
      "\n"
     ]
    }
   ],
   "source": [
    "prefixSpan = PrefixSpan().setMinSupport(0.5).setMaxPatternLength(5).setMaxLocalProjDBSize(32000000)\n",
    "result = prefixSpan.findFrequentSequentialPatterns(df).sort(\"sequence\")\n",
    "result.show(truncate=False)"
   ]
  }
 ],
 "metadata": {
  "kernelspec": {
   "display_name": "(hard-disk) Python",
   "language": "python",
   "name": "conda-env-hard-disk-py"
  },
  "language_info": {
   "codemirror_mode": {
    "name": "ipython",
    "version": 3
   },
   "file_extension": ".py",
   "mimetype": "text/x-python",
   "name": "python",
   "nbconvert_exporter": "python",
   "pygments_lexer": "ipython3",
   "version": "3.8.16"
  }
 },
 "nbformat": 4,
 "nbformat_minor": 5
}
