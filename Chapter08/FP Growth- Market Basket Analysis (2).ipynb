{
 "cells": [
  {
   "cell_type": "markdown",
   "metadata": {},
   "source": [
    "# Frequent Pattern Mining"
   ]
  },
  {
   "cell_type": "markdown",
   "metadata": {},
   "source": [
    "### Importing libraries"
   ]
  },
  {
   "cell_type": "code",
   "execution_count": 2,
   "metadata": {
    "application/vnd.databricks.v1+cell": {
     "cellMetadata": {
      "byteLimit": 2048000,
      "rowLimit": 10000
     },
     "inputWidgets": {},
     "nuid": "64504b19-b735-4549-8f9b-f71b345cfe56",
     "showTitle": false,
     "title": ""
    },
    "tags": []
   },
   "outputs": [],
   "source": [
    "import numpy as np\n",
    "import pandas as pd\n",
    "import matplotlib.pyplot as plt"
   ]
  },
  {
   "cell_type": "markdown",
   "metadata": {},
   "source": [
    "### Create Spark Session and load data"
   ]
  },
  {
   "cell_type": "code",
   "execution_count": 21,
   "metadata": {
    "application/vnd.databricks.v1+cell": {
     "cellMetadata": {
      "byteLimit": 2048000,
      "rowLimit": 10000
     },
     "inputWidgets": {},
     "nuid": "c8efa0a9-b88b-4a84-9cbc-8e3a77c08e57",
     "showTitle": false,
     "title": ""
    },
    "tags": []
   },
   "outputs": [
    {
     "data": {
      "text/html": [
       "<div>\n",
       "<style scoped>\n",
       "    .dataframe tbody tr th:only-of-type {\n",
       "        vertical-align: middle;\n",
       "    }\n",
       "\n",
       "    .dataframe tbody tr th {\n",
       "        vertical-align: top;\n",
       "    }\n",
       "\n",
       "    .dataframe thead th {\n",
       "        text-align: right;\n",
       "    }\n",
       "</style>\n",
       "<table border=\"1\" class=\"dataframe\">\n",
       "  <thead>\n",
       "    <tr style=\"text-align: right;\">\n",
       "      <th></th>\n",
       "      <th>shrimp</th>\n",
       "      <th>almonds</th>\n",
       "      <th>avocado</th>\n",
       "      <th>vegetables_mix</th>\n",
       "      <th>green_grapes</th>\n",
       "      <th>whole_weat_flour</th>\n",
       "      <th>yams</th>\n",
       "      <th>cottage_cheese</th>\n",
       "      <th>energy_drink</th>\n",
       "      <th>tomato_juice</th>\n",
       "      <th>...</th>\n",
       "      <th>green_tea</th>\n",
       "      <th>honey</th>\n",
       "      <th>salad</th>\n",
       "      <th>mineral_water</th>\n",
       "      <th>salmon</th>\n",
       "      <th>antioxydant_juice</th>\n",
       "      <th>frozen_smoothie</th>\n",
       "      <th>spinach</th>\n",
       "      <th>olive_oil</th>\n",
       "      <th>id</th>\n",
       "    </tr>\n",
       "  </thead>\n",
       "  <tbody>\n",
       "    <tr>\n",
       "      <th>0</th>\n",
       "      <td>burgers</td>\n",
       "      <td>meatballs</td>\n",
       "      <td>eggs</td>\n",
       "      <td>None</td>\n",
       "      <td>None</td>\n",
       "      <td>None</td>\n",
       "      <td>None</td>\n",
       "      <td>None</td>\n",
       "      <td>None</td>\n",
       "      <td>None</td>\n",
       "      <td>...</td>\n",
       "      <td>None</td>\n",
       "      <td>None</td>\n",
       "      <td>None</td>\n",
       "      <td>None</td>\n",
       "      <td>None</td>\n",
       "      <td>None</td>\n",
       "      <td>None</td>\n",
       "      <td>None</td>\n",
       "      <td>None</td>\n",
       "      <td>0</td>\n",
       "    </tr>\n",
       "    <tr>\n",
       "      <th>1</th>\n",
       "      <td>chutney</td>\n",
       "      <td>None</td>\n",
       "      <td>None</td>\n",
       "      <td>None</td>\n",
       "      <td>None</td>\n",
       "      <td>None</td>\n",
       "      <td>None</td>\n",
       "      <td>None</td>\n",
       "      <td>None</td>\n",
       "      <td>None</td>\n",
       "      <td>...</td>\n",
       "      <td>None</td>\n",
       "      <td>None</td>\n",
       "      <td>None</td>\n",
       "      <td>None</td>\n",
       "      <td>None</td>\n",
       "      <td>None</td>\n",
       "      <td>None</td>\n",
       "      <td>None</td>\n",
       "      <td>None</td>\n",
       "      <td>1</td>\n",
       "    </tr>\n",
       "    <tr>\n",
       "      <th>2</th>\n",
       "      <td>turkey</td>\n",
       "      <td>avocado</td>\n",
       "      <td>None</td>\n",
       "      <td>None</td>\n",
       "      <td>None</td>\n",
       "      <td>None</td>\n",
       "      <td>None</td>\n",
       "      <td>None</td>\n",
       "      <td>None</td>\n",
       "      <td>None</td>\n",
       "      <td>...</td>\n",
       "      <td>None</td>\n",
       "      <td>None</td>\n",
       "      <td>None</td>\n",
       "      <td>None</td>\n",
       "      <td>None</td>\n",
       "      <td>None</td>\n",
       "      <td>None</td>\n",
       "      <td>None</td>\n",
       "      <td>None</td>\n",
       "      <td>2</td>\n",
       "    </tr>\n",
       "    <tr>\n",
       "      <th>3</th>\n",
       "      <td>mineral water</td>\n",
       "      <td>milk</td>\n",
       "      <td>energy bar</td>\n",
       "      <td>whole wheat rice</td>\n",
       "      <td>green tea</td>\n",
       "      <td>None</td>\n",
       "      <td>None</td>\n",
       "      <td>None</td>\n",
       "      <td>None</td>\n",
       "      <td>None</td>\n",
       "      <td>...</td>\n",
       "      <td>None</td>\n",
       "      <td>None</td>\n",
       "      <td>None</td>\n",
       "      <td>None</td>\n",
       "      <td>None</td>\n",
       "      <td>None</td>\n",
       "      <td>None</td>\n",
       "      <td>None</td>\n",
       "      <td>None</td>\n",
       "      <td>3</td>\n",
       "    </tr>\n",
       "    <tr>\n",
       "      <th>4</th>\n",
       "      <td>low fat yogurt</td>\n",
       "      <td>None</td>\n",
       "      <td>None</td>\n",
       "      <td>None</td>\n",
       "      <td>None</td>\n",
       "      <td>None</td>\n",
       "      <td>None</td>\n",
       "      <td>None</td>\n",
       "      <td>None</td>\n",
       "      <td>None</td>\n",
       "      <td>...</td>\n",
       "      <td>None</td>\n",
       "      <td>None</td>\n",
       "      <td>None</td>\n",
       "      <td>None</td>\n",
       "      <td>None</td>\n",
       "      <td>None</td>\n",
       "      <td>None</td>\n",
       "      <td>None</td>\n",
       "      <td>None</td>\n",
       "      <td>4</td>\n",
       "    </tr>\n",
       "  </tbody>\n",
       "</table>\n",
       "<p>5 rows × 21 columns</p>\n",
       "</div>"
      ],
      "text/plain": [
       "           shrimp    almonds     avocado    vegetables_mix green_grapes  \\\n",
       "0         burgers  meatballs        eggs              None         None   \n",
       "1         chutney       None        None              None         None   \n",
       "2          turkey    avocado        None              None         None   \n",
       "3   mineral water       milk  energy bar  whole wheat rice    green tea   \n",
       "4  low fat yogurt       None        None              None         None   \n",
       "\n",
       "  whole_weat_flour  yams cottage_cheese energy_drink tomato_juice  ...  \\\n",
       "0             None  None           None         None         None  ...   \n",
       "1             None  None           None         None         None  ...   \n",
       "2             None  None           None         None         None  ...   \n",
       "3             None  None           None         None         None  ...   \n",
       "4             None  None           None         None         None  ...   \n",
       "\n",
       "  green_tea honey salad mineral_water salmon antioxydant_juice  \\\n",
       "0      None  None  None          None   None              None   \n",
       "1      None  None  None          None   None              None   \n",
       "2      None  None  None          None   None              None   \n",
       "3      None  None  None          None   None              None   \n",
       "4      None  None  None          None   None              None   \n",
       "\n",
       "  frozen_smoothie spinach olive_oil id  \n",
       "0            None    None      None  0  \n",
       "1            None    None      None  1  \n",
       "2            None    None      None  2  \n",
       "3            None    None      None  3  \n",
       "4            None    None      None  4  \n",
       "\n",
       "[5 rows x 21 columns]"
      ]
     },
     "execution_count": 21,
     "metadata": {},
     "output_type": "execute_result"
    }
   ],
   "source": [
    "from pyspark.sql.functions import monotonically_increasing_id\n",
    "# Create a Spark session\n",
    "spark = SparkSession.builder.appName(\"NewsgroupsPreprocessing\").getOrCreate()\n",
    "spark.sparkContext.setLogLevel(\"ERROR\")\n",
    "store_data = spark.read.format('csv')\\\n",
    "          .option('header','true')\\\n",
    "          .option('inferSchema', 'true')\\\n",
    "          .option('timestamp', 'true')\\\n",
    "          .load('s3a://test234/store_data.csv')\n",
    "store_data = store_data.withColumn(\"id\", monotonically_increasing_id() )\n",
    "store_data.limit(5).toPandas()"
   ]
  },
  {
   "cell_type": "markdown",
   "metadata": {},
   "source": [
    "### Data Preprocessing"
   ]
  },
  {
   "cell_type": "code",
   "execution_count": 22,
   "metadata": {
    "application/vnd.databricks.v1+cell": {
     "cellMetadata": {
      "byteLimit": 2048000,
      "rowLimit": 10000
     },
     "inputWidgets": {},
     "nuid": "e76387ea-ecf2-4f42-aacf-48921cfc77c3",
     "showTitle": false,
     "title": ""
    },
    "tags": []
   },
   "outputs": [
    {
     "name": "stdout",
     "output_type": "stream",
     "text": [
      "+--------------------------------------------------------------------------------------------------------------------------------------------------------+\n",
      "|basket                                                                                                                                                  |\n",
      "+--------------------------------------------------------------------------------------------------------------------------------------------------------+\n",
      "|[burgers, meatballs, eggs, NULL, NULL, NULL, NULL, NULL, NULL, NULL, NULL, NULL, NULL, NULL, NULL, NULL, NULL, NULL, NULL, NULL]                        |\n",
      "|[chutney, NULL, NULL, NULL, NULL, NULL, NULL, NULL, NULL, NULL, NULL, NULL, NULL, NULL, NULL, NULL, NULL, NULL, NULL, NULL]                             |\n",
      "|[turkey, avocado, NULL, NULL, NULL, NULL, NULL, NULL, NULL, NULL, NULL, NULL, NULL, NULL, NULL, NULL, NULL, NULL, NULL, NULL]                           |\n",
      "|[mineral water, milk, energy bar, whole wheat rice, green tea, NULL, NULL, NULL, NULL, NULL, NULL, NULL, NULL, NULL, NULL, NULL, NULL, NULL, NULL, NULL]|\n",
      "|[low fat yogurt, NULL, NULL, NULL, NULL, NULL, NULL, NULL, NULL, NULL, NULL, NULL, NULL, NULL, NULL, NULL, NULL, NULL, NULL, NULL]                      |\n",
      "+--------------------------------------------------------------------------------------------------------------------------------------------------------+\n",
      "\n"
     ]
    }
   ],
   "source": [
    "from pyspark.sql.functions import array,array_except,array_distinct\n",
    "store_data = store_data.select(array(store_data.shrimp,store_data.almonds,store_data.avocado,store_data.vegetables_mix,store_data.green_grapes,store_data.whole_weat_flour,store_data.yams,store_data.cottage_cheese,store_data.energy_drink,store_data.tomato_juice,store_data.low_fat_yogurt,store_data.green_tea,store_data.honey,store_data.salad,store_data.mineral_water,store_data.salmon,store_data.antioxydant_juice,store_data.frozen_smoothie,store_data.spinach,store_data.olive_oil).alias(\"basket\"))\n",
    "store_data.limit(5).show(truncate=False)"
   ]
  },
  {
   "cell_type": "code",
   "execution_count": 23,
   "metadata": {
    "application/vnd.databricks.v1+cell": {
     "cellMetadata": {
      "byteLimit": 2048000,
      "rowLimit": 10000
     },
     "inputWidgets": {},
     "nuid": "00ddc06a-8d6e-49b1-a71f-5bdc2420c57e",
     "showTitle": false,
     "title": ""
    },
    "tags": []
   },
   "outputs": [
    {
     "name": "stdout",
     "output_type": "stream",
     "text": [
      "+--------------------+\n",
      "|              basket|\n",
      "+--------------------+\n",
      "|[burgers, meatbal...|\n",
      "|     [chutney, NULL]|\n",
      "|[turkey, avocado,...|\n",
      "|[mineral water, m...|\n",
      "|[low fat yogurt, ...|\n",
      "|[whole wheat past...|\n",
      "|[soup, light crea...|\n",
      "|[frozen vegetable...|\n",
      "|[french fries, NULL]|\n",
      "|[eggs, pet food, ...|\n",
      "|     [cookies, NULL]|\n",
      "|[turkey, burgers,...|\n",
      "|[spaghetti, champ...|\n",
      "|[mineral water, s...|\n",
      "|[mineral water, N...|\n",
      "|[shrimp, chocolat...|\n",
      "|[turkey, eggs, NULL]|\n",
      "|[turkey, fresh tu...|\n",
      "|[meatballs, milk,...|\n",
      "|[red wine, shrimp...|\n",
      "+--------------------+\n",
      "only showing top 20 rows\n",
      "\n"
     ]
    }
   ],
   "source": [
    "store_data = store_data.select(array_distinct(store_data.basket).alias(\"basket\"))\n",
    "store_data.show()"
   ]
  },
  {
   "cell_type": "markdown",
   "metadata": {},
   "source": [
    "### Initialize the FP-Growth model, fit the model to the transactions\n",
    "### Display frequent itemsets\n",
    "### Display association rules"
   ]
  },
  {
   "cell_type": "code",
   "execution_count": 24,
   "metadata": {
    "application/vnd.databricks.v1+cell": {
     "cellMetadata": {
      "byteLimit": 2048000,
      "rowLimit": 10000
     },
     "inputWidgets": {},
     "nuid": "112fe30c-9cd8-40b4-905c-a2210d2421ea",
     "showTitle": false,
     "title": ""
    },
    "tags": []
   },
   "outputs": [
    {
     "name": "stdout",
     "output_type": "stream",
     "text": [
      "+--------------------+----+\n",
      "|               items|freq|\n",
      "+--------------------+----+\n",
      "|     [grated cheese]| 393|\n",
      "|[grated cheese, N...| 393|\n",
      "|       [ground beef]| 737|\n",
      "| [ground beef, NULL]| 737|\n",
      "|          [tomatoes]| 513|\n",
      "|    [tomatoes, NULL]| 513|\n",
      "|           [burgers]| 654|\n",
      "|     [burgers, NULL]| 654|\n",
      "|              [eggs]|1348|\n",
      "|[eggs, mineral wa...| 382|\n",
      "|[eggs, mineral wa...| 382|\n",
      "|        [eggs, NULL]|1348|\n",
      "|            [turkey]| 469|\n",
      "|      [turkey, NULL]| 469|\n",
      "|         [chocolate]|1229|\n",
      "|[chocolate, miner...| 395|\n",
      "|[chocolate, miner...| 395|\n",
      "|   [chocolate, NULL]|1229|\n",
      "|          [escalope]| 595|\n",
      "|    [escalope, NULL]| 595|\n",
      "+--------------------+----+\n",
      "only showing top 20 rows\n",
      "\n",
      "+--------------------+---------------+-------------------+------------------+-------------------+\n",
      "|          antecedent|     consequent|         confidence|              lift|            support|\n",
      "+--------------------+---------------+-------------------+------------------+-------------------+\n",
      "|              [milk]|         [NULL]|                1.0|               1.0|             0.1296|\n",
      "| [frozen vegetables]|         [NULL]|                1.0|               1.0|0.09533333333333334|\n",
      "|              [soup]|         [NULL]|                1.0|               1.0|0.05053333333333333|\n",
      "|  [whole wheat rice]|         [NULL]|                1.0|               1.0|0.05853333333333333|\n",
      "|     [grated cheese]|         [NULL]|                1.0|               1.0|             0.0524|\n",
      "|          [pancakes]|         [NULL]|                1.0|               1.0|0.09506666666666666|\n",
      "|   [frozen smoothie]|         [NULL]|                1.0|               1.0|             0.0632|\n",
      "|     [mineral water]|         [eggs]|0.21376608841634023|1.1893513821383916|0.05093333333333333|\n",
      "|     [mineral water]|    [chocolate]|0.22104085058757694|1.3489067367020562|0.05266666666666667|\n",
      "|     [mineral water]|         [NULL]|                1.0|               1.0|0.23826666666666665|\n",
      "|     [mineral water]|    [spaghetti]| 0.2506994963626189|1.4396984860027884|0.05973333333333333|\n",
      "|              [NULL]|[mineral water]|0.23826666666666665|               1.0|0.23826666666666665|\n",
      "|[spaghetti, miner...|         [NULL]|                1.0|               1.0|0.05973333333333333|\n",
      "|           [chicken]|         [NULL]|                1.0|               1.0|               0.06|\n",
      "|   [spaghetti, NULL]|[mineral water]| 0.3430321592649311|1.4396984860027886|0.05973333333333333|\n",
      "|       [cooking oil]|         [NULL]|                1.0|               1.0|0.05106666666666667|\n",
      "|   [chocolate, NULL]|[mineral water]| 0.3213995117982099|1.3489067367020562|0.05266666666666667|\n",
      "|           [cookies]|         [NULL]|                1.0|               1.0|             0.0804|\n",
      "|          [tomatoes]|         [NULL]|                1.0|               1.0|             0.0684|\n",
      "|         [green tea]|         [NULL]|                1.0|               1.0|              0.132|\n",
      "+--------------------+---------------+-------------------+------------------+-------------------+\n",
      "only showing top 20 rows\n",
      "\n"
     ]
    }
   ],
   "source": [
    "from pyspark.sql import SparkSession\n",
    "from pyspark.ml.fpm import FPGrowth\n",
    "# Initialize the FP-Growth model\n",
    "fp_growth = FPGrowth(itemsCol=\"basket\", minSupport=0.05, minConfidence=0.2)\n",
    "\n",
    "# Fit the model to the transactions\n",
    "model = fp_growth.fit(store_data)\n",
    "\n",
    "# Get frequent itemsets\n",
    "frequent_itemsets = model.freqItemsets\n",
    "\n",
    "# Show the frequent itemsets\n",
    "frequent_itemsets.show()\n",
    "\n",
    "# Get association rules\n",
    "association_rules = model.associationRules\n",
    "\n",
    "# Show the association rules\n",
    "association_rules.show()"
   ]
  },
  {
   "cell_type": "code",
   "execution_count": null,
   "metadata": {},
   "outputs": [],
   "source": []
  }
 ],
 "metadata": {
  "application/vnd.databricks.v1+notebook": {
   "dashboards": [],
   "language": "python",
   "notebookMetadata": {
    "pythonIndentUnit": 4
   },
   "notebookName": "FP Growth- Market Basket Analysis",
   "widgets": {}
  },
  "kernelspec": {
   "display_name": "(hard-disk) Python",
   "language": "python",
   "name": "conda-env-hard-disk-py"
  },
  "language_info": {
   "codemirror_mode": {
    "name": "ipython",
    "version": 3
   },
   "file_extension": ".py",
   "mimetype": "text/x-python",
   "name": "python",
   "nbconvert_exporter": "python",
   "pygments_lexer": "ipython3",
   "version": "3.8.16"
  }
 },
 "nbformat": 4,
 "nbformat_minor": 4
}
